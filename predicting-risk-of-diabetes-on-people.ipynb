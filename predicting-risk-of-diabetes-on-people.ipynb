{
 "cells": [
  {
   "cell_type": "code",
   "execution_count": 1,
   "id": "150ac6f0",
   "metadata": {
    "execution": {
     "iopub.execute_input": "2022-01-19T19:24:13.256345Z",
     "iopub.status.busy": "2022-01-19T19:24:13.254636Z",
     "iopub.status.idle": "2022-01-19T19:24:14.268161Z",
     "shell.execute_reply": "2022-01-19T19:24:14.267216Z",
     "shell.execute_reply.started": "2022-01-19T18:53:15.450701Z"
    },
    "papermill": {
     "duration": 1.027611,
     "end_time": "2022-01-19T19:24:14.268364",
     "exception": false,
     "start_time": "2022-01-19T19:24:13.240753",
     "status": "completed"
    },
    "tags": []
   },
   "outputs": [],
   "source": [
    " \n",
    "import pandas as pd\n",
    "# Import Decision Tree Classifier\n",
    "from sklearn.model_selection import train_test_split # Import train_test_split function\n",
    "from sklearn import metrics #Import scikit-learn metrics module for accuracy calculation\n",
    "\n"
   ]
  },
  {
   "cell_type": "code",
   "execution_count": 2,
   "id": "4992f47e",
   "metadata": {
    "execution": {
     "iopub.execute_input": "2022-01-19T19:24:14.291142Z",
     "iopub.status.busy": "2022-01-19T19:24:14.289146Z",
     "iopub.status.idle": "2022-01-19T19:24:14.443028Z",
     "shell.execute_reply": "2022-01-19T19:24:14.443517Z",
     "shell.execute_reply.started": "2022-01-19T18:53:33.936833Z"
    },
    "papermill": {
     "duration": 0.165923,
     "end_time": "2022-01-19T19:24:14.443724",
     "exception": false,
     "start_time": "2022-01-19T19:24:14.277801",
     "status": "completed"
    },
    "tags": []
   },
   "outputs": [],
   "source": [
    "import numpy as np\n",
    "\n",
    "  # Load libraries\n",
    "import pandas as pd\n",
    "from sklearn.tree import DecisionTreeClassifier # Import Decision Tree Classifier\n",
    "from sklearn.model_selection import train_test_split # Import train_test_split function\n",
    "from sklearn import metrics #Import scikit-learn metrics module for accuracy calculation"
   ]
  },
  {
   "cell_type": "code",
   "execution_count": 3,
   "id": "6a77a329",
   "metadata": {
    "execution": {
     "iopub.execute_input": "2022-01-19T19:24:14.464021Z",
     "iopub.status.busy": "2022-01-19T19:24:14.463466Z",
     "iopub.status.idle": "2022-01-19T19:24:14.466729Z",
     "shell.execute_reply": "2022-01-19T19:24:14.467186Z",
     "shell.execute_reply.started": "2022-01-19T18:53:55.112284Z"
    },
    "papermill": {
     "duration": 0.015149,
     "end_time": "2022-01-19T19:24:14.467364",
     "exception": false,
     "start_time": "2022-01-19T19:24:14.452215",
     "status": "completed"
    },
    "tags": []
   },
   "outputs": [],
   "source": [
    "col_names = ['pregnant', 'glucose', 'bp', 'skin', 'insulin', 'bmi', 'pedigree', 'age', 'label']\n"
   ]
  },
  {
   "cell_type": "code",
   "execution_count": 4,
   "id": "d2af4dc7",
   "metadata": {
    "execution": {
     "iopub.execute_input": "2022-01-19T19:24:14.486777Z",
     "iopub.status.busy": "2022-01-19T19:24:14.486224Z",
     "iopub.status.idle": "2022-01-19T19:24:14.527203Z",
     "shell.execute_reply": "2022-01-19T19:24:14.526716Z",
     "shell.execute_reply.started": "2022-01-19T18:55:37.331403Z"
    },
    "papermill": {
     "duration": 0.051666,
     "end_time": "2022-01-19T19:24:14.527348",
     "exception": false,
     "start_time": "2022-01-19T19:24:14.475682",
     "status": "completed"
    },
    "tags": []
   },
   "outputs": [
    {
     "data": {
      "text/html": [
       "<div>\n",
       "<style scoped>\n",
       "    .dataframe tbody tr th:only-of-type {\n",
       "        vertical-align: middle;\n",
       "    }\n",
       "\n",
       "    .dataframe tbody tr th {\n",
       "        vertical-align: top;\n",
       "    }\n",
       "\n",
       "    .dataframe thead th {\n",
       "        text-align: right;\n",
       "    }\n",
       "</style>\n",
       "<table border=\"1\" class=\"dataframe\">\n",
       "  <thead>\n",
       "    <tr style=\"text-align: right;\">\n",
       "      <th></th>\n",
       "      <th>pregnant</th>\n",
       "      <th>glucose</th>\n",
       "      <th>bp</th>\n",
       "      <th>skin</th>\n",
       "      <th>insulin</th>\n",
       "      <th>bmi</th>\n",
       "      <th>pedigree</th>\n",
       "      <th>age</th>\n",
       "      <th>label</th>\n",
       "    </tr>\n",
       "  </thead>\n",
       "  <tbody>\n",
       "    <tr>\n",
       "      <th>0</th>\n",
       "      <td>6</td>\n",
       "      <td>148</td>\n",
       "      <td>72</td>\n",
       "      <td>35</td>\n",
       "      <td>0</td>\n",
       "      <td>33.6</td>\n",
       "      <td>0.627</td>\n",
       "      <td>50</td>\n",
       "      <td>1</td>\n",
       "    </tr>\n",
       "    <tr>\n",
       "      <th>1</th>\n",
       "      <td>1</td>\n",
       "      <td>85</td>\n",
       "      <td>66</td>\n",
       "      <td>29</td>\n",
       "      <td>0</td>\n",
       "      <td>26.6</td>\n",
       "      <td>0.351</td>\n",
       "      <td>31</td>\n",
       "      <td>0</td>\n",
       "    </tr>\n",
       "    <tr>\n",
       "      <th>2</th>\n",
       "      <td>8</td>\n",
       "      <td>183</td>\n",
       "      <td>64</td>\n",
       "      <td>0</td>\n",
       "      <td>0</td>\n",
       "      <td>23.3</td>\n",
       "      <td>0.672</td>\n",
       "      <td>32</td>\n",
       "      <td>1</td>\n",
       "    </tr>\n",
       "    <tr>\n",
       "      <th>3</th>\n",
       "      <td>1</td>\n",
       "      <td>89</td>\n",
       "      <td>66</td>\n",
       "      <td>23</td>\n",
       "      <td>94</td>\n",
       "      <td>28.1</td>\n",
       "      <td>0.167</td>\n",
       "      <td>21</td>\n",
       "      <td>0</td>\n",
       "    </tr>\n",
       "    <tr>\n",
       "      <th>4</th>\n",
       "      <td>0</td>\n",
       "      <td>137</td>\n",
       "      <td>40</td>\n",
       "      <td>35</td>\n",
       "      <td>168</td>\n",
       "      <td>43.1</td>\n",
       "      <td>2.288</td>\n",
       "      <td>33</td>\n",
       "      <td>1</td>\n",
       "    </tr>\n",
       "  </tbody>\n",
       "</table>\n",
       "</div>"
      ],
      "text/plain": [
       "   pregnant  glucose  bp  skin  insulin   bmi  pedigree  age  label\n",
       "0         6      148  72    35        0  33.6     0.627   50      1\n",
       "1         1       85  66    29        0  26.6     0.351   31      0\n",
       "2         8      183  64     0        0  23.3     0.672   32      1\n",
       "3         1       89  66    23       94  28.1     0.167   21      0\n",
       "4         0      137  40    35      168  43.1     2.288   33      1"
      ]
     },
     "execution_count": 4,
     "metadata": {},
     "output_type": "execute_result"
    }
   ],
   "source": [
    "# load dataset\n",
    "pima = pd.read_csv(\"../input/pima-diabetes/pima-indians-diabetes.csv\", header=None,names=col_names)\n",
    "\n",
    "pima.head()"
   ]
  },
  {
   "cell_type": "code",
   "execution_count": 5,
   "id": "1fa30d9e",
   "metadata": {
    "execution": {
     "iopub.execute_input": "2022-01-19T19:24:14.556285Z",
     "iopub.status.busy": "2022-01-19T19:24:14.555637Z",
     "iopub.status.idle": "2022-01-19T19:24:14.559246Z",
     "shell.execute_reply": "2022-01-19T19:24:14.558734Z",
     "shell.execute_reply.started": "2022-01-19T18:55:57.16645Z"
    },
    "papermill": {
     "duration": 0.022886,
     "end_time": "2022-01-19T19:24:14.559388",
     "exception": false,
     "start_time": "2022-01-19T19:24:14.536502",
     "status": "completed"
    },
    "tags": []
   },
   "outputs": [
    {
     "data": {
      "text/html": [
       "<div>\n",
       "<style scoped>\n",
       "    .dataframe tbody tr th:only-of-type {\n",
       "        vertical-align: middle;\n",
       "    }\n",
       "\n",
       "    .dataframe tbody tr th {\n",
       "        vertical-align: top;\n",
       "    }\n",
       "\n",
       "    .dataframe thead th {\n",
       "        text-align: right;\n",
       "    }\n",
       "</style>\n",
       "<table border=\"1\" class=\"dataframe\">\n",
       "  <thead>\n",
       "    <tr style=\"text-align: right;\">\n",
       "      <th></th>\n",
       "      <th>pregnant</th>\n",
       "      <th>glucose</th>\n",
       "      <th>bp</th>\n",
       "      <th>skin</th>\n",
       "      <th>insulin</th>\n",
       "      <th>bmi</th>\n",
       "      <th>pedigree</th>\n",
       "      <th>age</th>\n",
       "      <th>label</th>\n",
       "    </tr>\n",
       "  </thead>\n",
       "  <tbody>\n",
       "    <tr>\n",
       "      <th>0</th>\n",
       "      <td>6</td>\n",
       "      <td>148</td>\n",
       "      <td>72</td>\n",
       "      <td>35</td>\n",
       "      <td>0</td>\n",
       "      <td>33.6</td>\n",
       "      <td>0.627</td>\n",
       "      <td>50</td>\n",
       "      <td>1</td>\n",
       "    </tr>\n",
       "    <tr>\n",
       "      <th>1</th>\n",
       "      <td>1</td>\n",
       "      <td>85</td>\n",
       "      <td>66</td>\n",
       "      <td>29</td>\n",
       "      <td>0</td>\n",
       "      <td>26.6</td>\n",
       "      <td>0.351</td>\n",
       "      <td>31</td>\n",
       "      <td>0</td>\n",
       "    </tr>\n",
       "    <tr>\n",
       "      <th>2</th>\n",
       "      <td>8</td>\n",
       "      <td>183</td>\n",
       "      <td>64</td>\n",
       "      <td>0</td>\n",
       "      <td>0</td>\n",
       "      <td>23.3</td>\n",
       "      <td>0.672</td>\n",
       "      <td>32</td>\n",
       "      <td>1</td>\n",
       "    </tr>\n",
       "    <tr>\n",
       "      <th>3</th>\n",
       "      <td>1</td>\n",
       "      <td>89</td>\n",
       "      <td>66</td>\n",
       "      <td>23</td>\n",
       "      <td>94</td>\n",
       "      <td>28.1</td>\n",
       "      <td>0.167</td>\n",
       "      <td>21</td>\n",
       "      <td>0</td>\n",
       "    </tr>\n",
       "    <tr>\n",
       "      <th>4</th>\n",
       "      <td>0</td>\n",
       "      <td>137</td>\n",
       "      <td>40</td>\n",
       "      <td>35</td>\n",
       "      <td>168</td>\n",
       "      <td>43.1</td>\n",
       "      <td>2.288</td>\n",
       "      <td>33</td>\n",
       "      <td>1</td>\n",
       "    </tr>\n",
       "  </tbody>\n",
       "</table>\n",
       "</div>"
      ],
      "text/plain": [
       "   pregnant  glucose  bp  skin  insulin   bmi  pedigree  age  label\n",
       "0         6      148  72    35        0  33.6     0.627   50      1\n",
       "1         1       85  66    29        0  26.6     0.351   31      0\n",
       "2         8      183  64     0        0  23.3     0.672   32      1\n",
       "3         1       89  66    23       94  28.1     0.167   21      0\n",
       "4         0      137  40    35      168  43.1     2.288   33      1"
      ]
     },
     "execution_count": 5,
     "metadata": {},
     "output_type": "execute_result"
    }
   ],
   "source": [
    "pima.head()"
   ]
  },
  {
   "cell_type": "code",
   "execution_count": 6,
   "id": "bae43300",
   "metadata": {
    "execution": {
     "iopub.execute_input": "2022-01-19T19:24:14.588507Z",
     "iopub.status.busy": "2022-01-19T19:24:14.586595Z",
     "iopub.status.idle": "2022-01-19T19:24:14.592611Z",
     "shell.execute_reply": "2022-01-19T19:24:14.592039Z",
     "shell.execute_reply.started": "2022-01-19T19:13:26.015532Z"
    },
    "papermill": {
     "duration": 0.024399,
     "end_time": "2022-01-19T19:24:14.592755",
     "exception": false,
     "start_time": "2022-01-19T19:24:14.568356",
     "status": "completed"
    },
    "tags": []
   },
   "outputs": [
    {
     "data": {
      "text/plain": [
       "0    500\n",
       "1    268\n",
       "Name: label, dtype: int64"
      ]
     },
     "execution_count": 6,
     "metadata": {},
     "output_type": "execute_result"
    }
   ],
   "source": [
    "pima.label.value_counts()"
   ]
  },
  {
   "cell_type": "code",
   "execution_count": 7,
   "id": "5a0b3581",
   "metadata": {
    "execution": {
     "iopub.execute_input": "2022-01-19T19:24:14.624736Z",
     "iopub.status.busy": "2022-01-19T19:24:14.623742Z",
     "iopub.status.idle": "2022-01-19T19:24:14.625564Z",
     "shell.execute_reply": "2022-01-19T19:24:14.626102Z",
     "shell.execute_reply.started": "2022-01-19T19:18:02.373637Z"
    },
    "papermill": {
     "duration": 0.023983,
     "end_time": "2022-01-19T19:24:14.626308",
     "exception": false,
     "start_time": "2022-01-19T19:24:14.602325",
     "status": "completed"
    },
    "tags": []
   },
   "outputs": [],
   "source": [
    "#split dataset in features and target variable\n",
    "feature_cols = ['pregnant', 'insulin', 'bmi', 'age','glucose','bp']\n",
    "X = pima[feature_cols] # Features\n",
    "y = pima.label # Target variable"
   ]
  },
  {
   "cell_type": "code",
   "execution_count": 8,
   "id": "21e1ad2b",
   "metadata": {
    "execution": {
     "iopub.execute_input": "2022-01-19T19:24:14.656474Z",
     "iopub.status.busy": "2022-01-19T19:24:14.654959Z",
     "iopub.status.idle": "2022-01-19T19:24:14.660435Z",
     "shell.execute_reply": "2022-01-19T19:24:14.660900Z",
     "shell.execute_reply.started": "2022-01-19T19:18:04.684074Z"
    },
    "papermill": {
     "duration": 0.022491,
     "end_time": "2022-01-19T19:24:14.661081",
     "exception": false,
     "start_time": "2022-01-19T19:24:14.638590",
     "status": "completed"
    },
    "tags": []
   },
   "outputs": [],
   "source": [
    "# split X and y into training and testing sets\n",
    "\n",
    "X_train,X_test,y_train,y_test=train_test_split(X,y,test_size=0.40,random_state=0)\n"
   ]
  },
  {
   "cell_type": "code",
   "execution_count": 9,
   "id": "5a610c2b",
   "metadata": {
    "execution": {
     "iopub.execute_input": "2022-01-19T19:24:14.687872Z",
     "iopub.status.busy": "2022-01-19T19:24:14.687240Z",
     "iopub.status.idle": "2022-01-19T19:24:14.689811Z",
     "shell.execute_reply": "2022-01-19T19:24:14.690250Z",
     "shell.execute_reply.started": "2022-01-19T19:18:12.239647Z"
    },
    "papermill": {
     "duration": 0.017989,
     "end_time": "2022-01-19T19:24:14.690424",
     "exception": false,
     "start_time": "2022-01-19T19:24:14.672435",
     "status": "completed"
    },
    "tags": []
   },
   "outputs": [],
   "source": [
    "# import the class\n",
    "from sklearn.linear_model import LogisticRegression\n"
   ]
  },
  {
   "cell_type": "code",
   "execution_count": 10,
   "id": "c0502936",
   "metadata": {
    "execution": {
     "iopub.execute_input": "2022-01-19T19:24:14.714477Z",
     "iopub.status.busy": "2022-01-19T19:24:14.713575Z",
     "iopub.status.idle": "2022-01-19T19:24:14.743237Z",
     "shell.execute_reply": "2022-01-19T19:24:14.743670Z",
     "shell.execute_reply.started": "2022-01-19T19:18:14.002501Z"
    },
    "papermill": {
     "duration": 0.041934,
     "end_time": "2022-01-19T19:24:14.743845",
     "exception": false,
     "start_time": "2022-01-19T19:24:14.701911",
     "status": "completed"
    },
    "tags": []
   },
   "outputs": [
    {
     "data": {
      "text/plain": [
       "LogisticRegression()"
      ]
     },
     "execution_count": 10,
     "metadata": {},
     "output_type": "execute_result"
    }
   ],
   "source": [
    "# instantiate the model (using the default parameters)\n",
    "from sklearn.linear_model import LogisticRegression\n",
    "classifier = LogisticRegression()\n",
    "classifier.fit(X_train, y_train)"
   ]
  },
  {
   "cell_type": "code",
   "execution_count": 11,
   "id": "103fa374",
   "metadata": {
    "execution": {
     "iopub.execute_input": "2022-01-19T19:24:14.766435Z",
     "iopub.status.busy": "2022-01-19T19:24:14.765749Z",
     "iopub.status.idle": "2022-01-19T19:24:14.789750Z",
     "shell.execute_reply": "2022-01-19T19:24:14.789137Z",
     "shell.execute_reply.started": "2022-01-19T19:20:18.965646Z"
    },
    "papermill": {
     "duration": 0.036472,
     "end_time": "2022-01-19T19:24:14.789881",
     "exception": false,
     "start_time": "2022-01-19T19:24:14.753409",
     "status": "completed"
    },
    "tags": []
   },
   "outputs": [
    {
     "name": "stdout",
     "output_type": "stream",
     "text": [
      "[[0.11278436 0.88721564]]\n",
      "Accuracy: 0.7792207792207793\n",
      "Precision: 0.7536231884057971\n",
      "Recall: 0.5048543689320388\n",
      "Accuracy: 0.7652173913043478\n",
      "Precision: 0.7050359712230215\n",
      "Recall: 0.593939393939394\n"
     ]
    }
   ],
   "source": [
    "#for printing the probability\n",
    "y_pred=classifier.predict_proba([[1,0,42.9,22,199,76]])\n",
    "y_pred\n",
    "print(y_pred)\n",
    "\n",
    "y_pred=classifier.predict(X_test)\n",
    "y_pred2=classifier.predict(X_train)\n",
    "\n",
    "\n",
    "\n",
    "\n",
    "\n",
    "\n",
    "cnf_matrix = metrics.confusion_matrix(y_test, y_pred)\n",
    "cnf_matrix\n",
    "cnf_matrix2 = metrics.confusion_matrix(y_train, y_pred2)\n",
    "cnf_matrix\n",
    "\n",
    "print(\"Accuracy:\",metrics.accuracy_score(y_test, y_pred))\n",
    "print(\"Precision:\",metrics.precision_score(y_test, y_pred))\n",
    "print(\"Recall:\",metrics.recall_score(y_test, y_pred))\n",
    "print(\"Accuracy:\",metrics.accuracy_score(y_train, y_pred2))\n",
    "print(\"Precision:\",metrics.precision_score(y_train, y_pred2))\n",
    "print(\"Recall:\",metrics.recall_score(y_train, y_pred2))\n"
   ]
  },
  {
   "cell_type": "code",
   "execution_count": null,
   "id": "969af63a",
   "metadata": {
    "papermill": {
     "duration": 0.009502,
     "end_time": "2022-01-19T19:24:14.808958",
     "exception": false,
     "start_time": "2022-01-19T19:24:14.799456",
     "status": "completed"
    },
    "tags": []
   },
   "outputs": [],
   "source": []
  }
 ],
 "metadata": {
  "kernelspec": {
   "display_name": "Python 3",
   "language": "python",
   "name": "python3"
  },
  "language_info": {
   "codemirror_mode": {
    "name": "ipython",
    "version": 3
   },
   "file_extension": ".py",
   "mimetype": "text/x-python",
   "name": "python",
   "nbconvert_exporter": "python",
   "pygments_lexer": "ipython3",
   "version": "3.7.12"
  },
  "papermill": {
   "default_parameters": {},
   "duration": 10.656701,
   "end_time": "2022-01-19T19:24:15.528728",
   "environment_variables": {},
   "exception": null,
   "input_path": "__notebook__.ipynb",
   "output_path": "__notebook__.ipynb",
   "parameters": {},
   "start_time": "2022-01-19T19:24:04.872027",
   "version": "2.3.3"
  }
 },
 "nbformat": 4,
 "nbformat_minor": 5
}
